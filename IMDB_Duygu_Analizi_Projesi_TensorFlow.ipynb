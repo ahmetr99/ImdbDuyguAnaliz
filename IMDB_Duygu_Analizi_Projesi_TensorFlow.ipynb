{
  "cells": [
    {
      "cell_type": "markdown",
      "id": "9aba9551",
      "metadata": {
        "id": "9aba9551"
      },
      "source": [
        "# IMDB Film Yorumları ile Duygu Analizi\n",
        "Bu projede IMDB film yorumları veriseti kullanılarak derin öğrenme tabanlı bir duygu analiz sistemi geliştirilecektir."
      ]
    },
    {
      "cell_type": "code",
      "execution_count": 1,
      "id": "5c135c13",
      "metadata": {
        "id": "5c135c13"
      },
      "outputs": [],
      "source": [
        "import tensorflow as tf\n",
        "import numpy as np\n",
        "import matplotlib.pyplot as plt\n",
        "import os\n",
        "import re\n",
        "import shutil\n",
        "import string\n",
        "from tensorflow.keras import layers\n",
        "from tensorflow.keras.preprocessing import sequence\n",
        "from sklearn.metrics import classification_report\n"
      ]
    },
    {
      "cell_type": "markdown",
      "id": "2d80576e",
      "metadata": {
        "id": "2d80576e"
      },
      "source": [
        "## Veri Seti İndirme ve Dosya Yapısının İncelenmesi"
      ]
    },
    {
      "cell_type": "code",
      "execution_count": 17,
      "id": "26eb8d83",
      "metadata": {
        "colab": {
          "base_uri": "https://localhost:8080/"
        },
        "id": "26eb8d83",
        "outputId": "8be922fc-1e97-4724-b757-ecb746e0464c"
      },
      "outputs": [
        {
          "output_type": "stream",
          "name": "stdout",
          "text": [
            "  % Total    % Received % Xferd  Average Speed   Time    Time     Time  Current\n",
            "                                 Dload  Upload   Total   Spent    Left  Speed\n",
            "100 80.2M  100 80.2M    0     0  5468k      0  0:00:15  0:00:15 --:--:-- 8133k\n",
            "imdbEr.txt  imdb.vocab\tREADME\ttest  train\n"
          ]
        }
      ],
      "source": [
        "!curl -O https://ai.stanford.edu/~amaas/data/sentiment/aclImdb_v1.tar.gz\n",
        "!tar -xf aclImdb_v1.tar.gz\n",
        "!ls aclImdb\n",
        "!mkdir aclImdb/train_cleaned\n",
        "!cp -r aclImdb/train/pos aclImdb/train_cleaned/\n",
        "!cp -r aclImdb/train/neg aclImdb/train_cleaned/"
      ]
    },
    {
      "cell_type": "markdown",
      "id": "1ac5d32a",
      "metadata": {
        "id": "1ac5d32a"
      },
      "source": [
        "## Veri Yükleme ve Ön İşleme"
      ]
    },
    {
      "cell_type": "code",
      "execution_count": 18,
      "id": "3bb370b0",
      "metadata": {
        "colab": {
          "base_uri": "https://localhost:8080/"
        },
        "id": "3bb370b0",
        "outputId": "a06c6771-4de9-4c78-b1b4-e00aa0672161"
      },
      "outputs": [
        {
          "output_type": "stream",
          "name": "stdout",
          "text": [
            "Found 25000 files belonging to 2 classes.\n",
            "Using 20000 files for training.\n",
            "Found 25000 files belonging to 2 classes.\n",
            "Using 5000 files for validation.\n"
          ]
        }
      ],
      "source": [
        "batch_size = 32\n",
        "seed = 42\n",
        "raw_train_ds = tf.keras.utils.text_dataset_from_directory(\n",
        "    \"aclImdb/train_cleaned\",\n",
        "    batch_size=batch_size,\n",
        "    validation_split=0.2,\n",
        "    subset=\"training\",\n",
        "    seed=seed)\n",
        "\n",
        "raw_val_ds = tf.keras.utils.text_dataset_from_directory(\n",
        "    \"aclImdb/train_cleaned\",\n",
        "    batch_size=batch_size,\n",
        "    validation_split=0.2,\n",
        "    subset=\"validation\",\n",
        "    seed=seed)"
      ]
    },
    {
      "cell_type": "markdown",
      "id": "571da475",
      "metadata": {
        "id": "571da475"
      },
      "source": [
        "## Metin Temizleme ve Vektörleştirme"
      ]
    },
    {
      "cell_type": "code",
      "execution_count": 20,
      "id": "5bf8a92f",
      "metadata": {
        "id": "5bf8a92f"
      },
      "outputs": [],
      "source": [
        "AUTOTUNE = tf.data.AUTOTUNE\n",
        "\n",
        "def custom_standardization(text):\n",
        "    lowercase = tf.strings.lower(text)\n",
        "    stripped_html = tf.strings.regex_replace(lowercase, \"<br />\", \" \")\n",
        "    cleaned_text = tf.strings.regex_replace(stripped_html, f\"[{re.escape(string.punctuation)}]\", \"\")\n",
        "    return cleaned_text\n",
        "\n",
        "max_features = 10000\n",
        "sequence_length = 250\n",
        "\n",
        "vectorize_layer = layers.TextVectorization(\n",
        "    standardize=custom_standardization,\n",
        "    max_tokens=max_features,\n",
        "    output_mode=\"int\",\n",
        "    output_sequence_length=sequence_length)\n",
        "\n",
        "# Vektörleştirme katmanını eğit\n",
        "train_text = raw_train_ds.map(lambda x, y: x)\n",
        "vectorize_layer.adapt(train_text)\n",
        "\n",
        "def vectorize_text(text, label):\n",
        "    return vectorize_layer(text), label\n",
        "\n",
        "train_ds = raw_train_ds.map(vectorize_text).cache().prefetch(buffer_size=AUTOTUNE)\n",
        "val_ds = raw_val_ds.map(vectorize_text).cache().prefetch(buffer_size=AUTOTUNE)\n",
        "test_ds = raw_test_ds.map(vectorize_text).cache().prefetch(buffer_size=AUTOTUNE)\n"
      ]
    },
    {
      "cell_type": "markdown",
      "id": "ffe09dbb",
      "metadata": {
        "id": "ffe09dbb"
      },
      "source": [
        "## Modelin Kurulması"
      ]
    },
    {
      "cell_type": "code",
      "execution_count": 21,
      "id": "ab367d1b",
      "metadata": {
        "id": "ab367d1b"
      },
      "outputs": [],
      "source": [
        "embedding_dim = 16\n",
        "\n",
        "model = tf.keras.Sequential([\n",
        "    layers.Embedding(max_features + 1, embedding_dim, input_shape=(sequence_length,)),\n",
        "    layers.Bidirectional(layers.LSTM(64)),\n",
        "    layers.Dropout(0.5),\n",
        "    layers.Dense(64, activation='relu'),\n",
        "    layers.Dense(1)\n",
        "])\n",
        "\n"
      ]
    },
    {
      "cell_type": "code",
      "source": [
        "model.compile(loss=tf.keras.losses.BinaryCrossentropy(from_logits=True),\n",
        "              optimizer='adam',\n",
        "              metrics=['accuracy'])"
      ],
      "metadata": {
        "id": "mXh-6cfFqjbQ"
      },
      "id": "mXh-6cfFqjbQ",
      "execution_count": 22,
      "outputs": []
    },
    {
      "cell_type": "markdown",
      "id": "90af15c3",
      "metadata": {
        "id": "90af15c3"
      },
      "source": [
        "## Modelin Eğitilmesi"
      ]
    },
    {
      "cell_type": "code",
      "execution_count": 23,
      "id": "d6516ada",
      "metadata": {
        "colab": {
          "base_uri": "https://localhost:8080/"
        },
        "id": "d6516ada",
        "outputId": "c0a9b48a-55f1-4e72-9a2c-8c202bce3d73"
      },
      "outputs": [
        {
          "output_type": "stream",
          "name": "stdout",
          "text": [
            "Epoch 1/10\n",
            "\u001b[1m625/625\u001b[0m \u001b[32m━━━━━━━━━━━━━━━━━━━━\u001b[0m\u001b[37m\u001b[0m \u001b[1m161s\u001b[0m 250ms/step - accuracy: 0.5761 - loss: 0.6375 - val_accuracy: 0.7254 - val_loss: 0.4919\n",
            "Epoch 2/10\n",
            "\u001b[1m625/625\u001b[0m \u001b[32m━━━━━━━━━━━━━━━━━━━━\u001b[0m\u001b[37m\u001b[0m \u001b[1m198s\u001b[0m 244ms/step - accuracy: 0.8441 - loss: 0.3713 - val_accuracy: 0.7648 - val_loss: 0.4389\n",
            "Epoch 3/10\n",
            "\u001b[1m625/625\u001b[0m \u001b[32m━━━━━━━━━━━━━━━━━━━━\u001b[0m\u001b[37m\u001b[0m \u001b[1m149s\u001b[0m 238ms/step - accuracy: 0.8984 - loss: 0.2658 - val_accuracy: 0.7938 - val_loss: 0.4700\n",
            "Epoch 4/10\n",
            "\u001b[1m625/625\u001b[0m \u001b[32m━━━━━━━━━━━━━━━━━━━━\u001b[0m\u001b[37m\u001b[0m \u001b[1m152s\u001b[0m 244ms/step - accuracy: 0.9143 - loss: 0.2265 - val_accuracy: 0.7540 - val_loss: 0.6538\n",
            "Epoch 5/10\n",
            "\u001b[1m625/625\u001b[0m \u001b[32m━━━━━━━━━━━━━━━━━━━━\u001b[0m\u001b[37m\u001b[0m \u001b[1m150s\u001b[0m 240ms/step - accuracy: 0.9219 - loss: 0.2172 - val_accuracy: 0.8178 - val_loss: 0.4129\n",
            "Epoch 6/10\n",
            "\u001b[1m625/625\u001b[0m \u001b[32m━━━━━━━━━━━━━━━━━━━━\u001b[0m\u001b[37m\u001b[0m \u001b[1m152s\u001b[0m 243ms/step - accuracy: 0.9398 - loss: 0.1712 - val_accuracy: 0.8440 - val_loss: 0.4482\n",
            "Epoch 7/10\n",
            "\u001b[1m625/625\u001b[0m \u001b[32m━━━━━━━━━━━━━━━━━━━━\u001b[0m\u001b[37m\u001b[0m \u001b[1m152s\u001b[0m 243ms/step - accuracy: 0.9482 - loss: 0.1498 - val_accuracy: 0.8498 - val_loss: 0.5040\n",
            "Epoch 8/10\n",
            "\u001b[1m625/625\u001b[0m \u001b[32m━━━━━━━━━━━━━━━━━━━━\u001b[0m\u001b[37m\u001b[0m \u001b[1m151s\u001b[0m 242ms/step - accuracy: 0.9584 - loss: 0.1225 - val_accuracy: 0.8536 - val_loss: 0.4641\n",
            "Epoch 9/10\n",
            "\u001b[1m625/625\u001b[0m \u001b[32m━━━━━━━━━━━━━━━━━━━━\u001b[0m\u001b[37m\u001b[0m \u001b[1m205s\u001b[0m 247ms/step - accuracy: 0.9586 - loss: 0.1239 - val_accuracy: 0.8452 - val_loss: 0.5181\n",
            "Epoch 10/10\n",
            "\u001b[1m625/625\u001b[0m \u001b[32m━━━━━━━━━━━━━━━━━━━━\u001b[0m\u001b[37m\u001b[0m \u001b[1m149s\u001b[0m 239ms/step - accuracy: 0.9583 - loss: 0.1225 - val_accuracy: 0.8366 - val_loss: 0.5357\n"
          ]
        }
      ],
      "source": [
        "epochs = 10\n",
        "history = model.fit(train_ds,\n",
        "                    validation_data=val_ds,\n",
        "                    epochs=epochs)\n"
      ]
    },
    {
      "cell_type": "markdown",
      "id": "86d1e6cd",
      "metadata": {
        "id": "86d1e6cd"
      },
      "source": [
        "## Eğitim Sonuçlarının Görselleştirilmesi"
      ]
    },
    {
      "cell_type": "code",
      "execution_count": 24,
      "id": "1c30dd0a",
      "metadata": {
        "colab": {
          "base_uri": "https://localhost:8080/",
          "height": 468
        },
        "id": "1c30dd0a",
        "outputId": "a0088fbd-1176-419d-b4b3-5a1e80093c1f"
      },
      "outputs": [
        {
          "output_type": "display_data",
          "data": {
            "text/plain": [
              "<Figure size 1200x500 with 2 Axes>"
            ],
            "image/png": "[encoded data removed]"
          },
          "metadata": {}
        }
      ],
      "source": [
        "history_dict = history.history\n",
        "acc = history_dict['accuracy']\n",
        "val_acc = history_dict['val_accuracy']\n",
        "loss = history_dict['loss']\n",
        "val_loss = history_dict['val_loss']\n",
        "epochs_range = range(epochs)\n",
        "\n",
        "plt.figure(figsize=(12, 5))\n",
        "plt.subplot(1, 2, 1)\n",
        "plt.plot(epochs_range, loss, label='Eğitim Kaybı')\n",
        "plt.plot(epochs_range, val_loss, label='Doğrulama Kaybı')\n",
        "plt.legend(loc='upper right')\n",
        "plt.title('Eğitim ve Doğrulama Kaybı')\n",
        "\n",
        "plt.subplot(1, 2, 2)\n",
        "plt.plot(epochs_range, acc, label='Eğitim Doğruluğu')\n",
        "plt.plot(epochs_range, val_acc, label='Doğrulama Doğruluğu')\n",
        "plt.legend(loc='lower right')\n",
        "plt.title('Eğitim ve Doğrulama Doğruluğu')\n",
        "plt.show()\n"
      ]
    },
    {
      "cell_type": "markdown",
      "id": "3de01ba9",
      "metadata": {
        "id": "3de01ba9"
      },
      "source": [
        "## Modelin Test Verisi Üzerindeki Performansı"
      ]
    },
    {
      "cell_type": "code",
      "execution_count": 25,
      "id": "5cc5d6c5",
      "metadata": {
        "colab": {
          "base_uri": "https://localhost:8080/"
        },
        "id": "5cc5d6c5",
        "outputId": "9d0a1ad4-6d45-45a7-c2c0-755efeaa6c81"
      },
      "outputs": [
        {
          "output_type": "stream",
          "name": "stdout",
          "text": [
            "\u001b[1m782/782\u001b[0m \u001b[32m━━━━━━━━━━━━━━━━━━━━\u001b[0m\u001b[37m\u001b[0m \u001b[1m47s\u001b[0m 60ms/step - accuracy: 0.8200 - loss: 0.5945\n",
            "Test Doğruluğu: 81.71%\n"
          ]
        }
      ],
      "source": [
        "results = model.evaluate(test_ds)\n",
        "print(f\"Test Doğruluğu: {results[1]*100:.2f}%\")\n"
      ]
    },
    {
      "cell_type": "code",
      "source": [
        "\n",
        "\n",
        "class_names = raw_train_ds.class_names  # ['neg', 'pos']\n",
        "\n",
        "for text_batch, label_batch in raw_test_ds.take(1):\n",
        "    sample_texts = text_batch[:20]\n",
        "    sample_labels = label_batch[:20]\n",
        "\n",
        "    # Vektörleştir\n",
        "    vectorized_texts = vectorize_layer(sample_texts)\n",
        "\n",
        "    # Tahmin yap\n",
        "    predictions = model.predict(vectorized_texts)\n",
        "    predictions = tf.squeeze(predictions).numpy()\n",
        "\n",
        "    for i in range(20):\n",
        "        print(f\"Yorum {i+1}:\")\n",
        "        print(sample_texts[i].numpy().decode('utf-8')[:300], \"...\")\n",
        "        print(f\"Gerçek Etiket: {class_names[sample_labels[i]]}\")\n",
        "        print(f\"Tahmin (Pozitif olasılığı): {predictions[i]:.2f}\")\n",
        "        print(f\"Tahmin Etiketi: {'pos' if predictions[i] >= 0.5 else 'neg'}\")\n",
        "        print(\"-\" * 80)"
      ],
      "metadata": {
        "colab": {
          "base_uri": "https://localhost:8080/"
        },
        "id": "rHnpOQJA5ahQ",
        "outputId": "a6445528-a972-4c74-b8df-b5428454a1ac"
      },
      "id": "rHnpOQJA5ahQ",
      "execution_count": 26,
      "outputs": [
        {
          "output_type": "stream",
          "name": "stdout",
          "text": [
            "\u001b[1m1/1\u001b[0m \u001b[32m━━━━━━━━━━━━━━━━━━━━\u001b[0m\u001b[37m\u001b[0m \u001b[1m0s\u001b[0m 445ms/step\n",
            "Yorum 1:\n",
            "This is a family movie that was broadcast on my local ITV station at 1.00 am a couple of nights ago . This might be a strange decision on the part of the schedulers but THE REAL HOWARD SPITZ is a rather strange film , strange in the way it doesn't want to upset its audience . Come on there's nothing ...\n",
            "Gerçek Etiket: neg\n",
            "Tahmin (Pozitif olasılığı): -2.13\n",
            "Tahmin Etiketi: neg\n",
            "--------------------------------------------------------------------------------\n",
            "Yorum 2:\n",
            "Whatever you do, don't stop watching when you think the movie is over! Hang around for the first batch of credits or you'll really miss something! We saw this movie at the Savanaah film festival and thought it was the best of the bunch. Dreya Weber is a marvel really, not only because of her perform ...\n",
            "Gerçek Etiket: pos\n",
            "Tahmin (Pozitif olasılığı): 0.62\n",
            "Tahmin Etiketi: pos\n",
            "--------------------------------------------------------------------------------\n",
            "Yorum 3:\n",
            "I saw this fine flick shortly leaving college. As I sat there happily watching Alice go from repressed virgin to sexual adventurer, I got to wondering why her sexual encounters seemed familiar. Then I remembered-- Intro Psych 101 Lecture! One of the lectures dealt with the Psycho-Sexual Stages of De ...\n",
            "Gerçek Etiket: pos\n",
            "Tahmin (Pozitif olasılığı): -5.59\n",
            "Tahmin Etiketi: neg\n",
            "--------------------------------------------------------------------------------\n",
            "Yorum 4:\n",
            "Robot Holocaust is about the lamest, most pathetic attempt at making a post-apocalyptic movie that I've seen. And I thought the Italians were the masters of wretched Mad Max wannabes. Some of those movies like Escape 2000 are positively brilliant in comparison with this piece of poo. The plot is non ...\n",
            "Gerçek Etiket: neg\n",
            "Tahmin (Pozitif olasılığı): -4.38\n",
            "Tahmin Etiketi: neg\n",
            "--------------------------------------------------------------------------------\n",
            "Yorum 5:\n",
            "There's been a whole lot made about Carlos Mencia's (Mr. Holness, excuse me) theft of other comics' material. Heck, even before Joe Rogan had a blowup with him on stage I knew that Carlos Mensteala was swiping material from Cosby and Kinison and a host of others.<br /><br />To compound the crime of  ...\n",
            "Gerçek Etiket: neg\n",
            "Tahmin (Pozitif olasılığı): -4.38\n",
            "Tahmin Etiketi: neg\n",
            "--------------------------------------------------------------------------------\n",
            "Yorum 6:\n",
            "real love. true love. mad love. beautiful love. ugly love. dirty love. sad love. happy love. silly love. smart love. gorgeous love. dumb love. love love love. minnie moore understands that what she really needs is a man who trust her, trust her and love her madly. of course when this man comes along ...\n",
            "Gerçek Etiket: pos\n",
            "Tahmin (Pozitif olasılığı): 5.75\n",
            "Tahmin Etiketi: pos\n",
            "--------------------------------------------------------------------------------\n",
            "Yorum 7:\n",
            "I hate it when people in the movie theater talk back to the screen. It's one of the main reasons why I stick to DVD's or videos . I saw The Clearing on DVD but if I had seen it in the movies I would have had to stand up and SCREAM \" HE'S NOT DEAD YET , YOU MORON ! \"<br /><br />The Clearing is anothe ...\n",
            "Gerçek Etiket: neg\n",
            "Tahmin (Pozitif olasılığı): -3.31\n",
            "Tahmin Etiketi: neg\n",
            "--------------------------------------------------------------------------------\n",
            "Yorum 8:\n",
            "\"THE KING OF QUEENS,\" in my opinion, is a pure CBS hit! Despite the fact that I've never seen every episode, I still enjoy it very much. For that reason, it's hard for me to say which episode is my favorite. Even so, I must say that CBS really knows how to make a good sitcom. Before I wrap this up,  ...\n",
            "Gerçek Etiket: pos\n",
            "Tahmin (Pozitif olasılığı): 6.76\n",
            "Tahmin Etiketi: pos\n",
            "--------------------------------------------------------------------------------\n",
            "Yorum 9:\n",
            "After just viewing the movie, I must say this is one of the worst films I have ever seen. This takes my worst movie award away from Komodo, which is no easy feat. It is neither a porno nor a legitimate film and it gives them both a bad name. The acting, camera-work, plot, script, and sound are all a ...\n",
            "Gerçek Etiket: neg\n",
            "Tahmin (Pozitif olasılığı): -3.86\n",
            "Tahmin Etiketi: neg\n",
            "--------------------------------------------------------------------------------\n",
            "Yorum 10:\n",
            "OK with Coolio in it I should have known better! But Noooooooo.<br /><br />Within 3 mins you've encountered 5 bites from other movies & and TV shows...<br /><br />8 mins Casper Van Dien should have learnt by now! <br /><br />10 mins you're feeling sorry for Tom 'Tiny' Lister Jr. that he has been red ...\n",
            "Gerçek Etiket: neg\n",
            "Tahmin (Pozitif olasılığı): -2.78\n",
            "Tahmin Etiketi: neg\n",
            "--------------------------------------------------------------------------------\n",
            "Yorum 11:\n",
            "I would label this show as horrendous if it weren't for the fact that it's on the same network as Arrested Development. Because it is on FOX and getting renewed while AD got cancelled. <br /><br />It is absolutely beyond words how atrocious this show actually is. But let me try and describe it. Take ...\n",
            "Gerçek Etiket: neg\n",
            "Tahmin (Pozitif olasılığı): -1.39\n",
            "Tahmin Etiketi: neg\n",
            "--------------------------------------------------------------------------------\n",
            "Yorum 12:\n",
            "So well done. The photography, sound, music and the performances were the best. It's also an amusing story line that brings a smile to your face with each scene--I loved it and I'm a 60 year old heterosexual guy. Each character seemed to fit their part to a tee. It's the best performance that I've s ...\n",
            "Gerçek Etiket: pos\n",
            "Tahmin (Pozitif olasılığı): 6.06\n",
            "Tahmin Etiketi: pos\n",
            "--------------------------------------------------------------------------------\n",
            "Yorum 13:\n",
            "Frank Tashlin's 'Censored' is a so-so Private Snafu short which aims to teach the importance of the Censor in stopping military secrets from leaking out. Snafu attempts to get word out to his girlfriend that he's to be stationed in the South Pacific but the Censor foils each attempt he makes to send ...\n",
            "Gerçek Etiket: neg\n",
            "Tahmin (Pozitif olasılığı): 1.76\n",
            "Tahmin Etiketi: pos\n",
            "--------------------------------------------------------------------------------\n",
            "Yorum 14:\n",
            "I have a completely biased point of view mainly because I live and enjoy the club culture lifestyle. Being a DJ and frequent club goer I see the honesty within this movie and I love it. If you don't know the club/rave culture then it will be a great foray into that culture for anyone that doesn't kn ...\n",
            "Gerçek Etiket: pos\n",
            "Tahmin (Pozitif olasılığı): 6.20\n",
            "Tahmin Etiketi: pos\n",
            "--------------------------------------------------------------------------------\n",
            "Yorum 15:\n",
            "What can I say about a movie as bad as this? The people who made this movie, didn't even try to make the monster in it look realistic. You never see more than its head, and the head is just a giant puppet that has little movement except for when it opens it mouth to roar. And the sound they used for ...\n",
            "Gerçek Etiket: neg\n",
            "Tahmin (Pozitif olasılığı): -4.89\n",
            "Tahmin Etiketi: neg\n",
            "--------------------------------------------------------------------------------\n",
            "Yorum 16:\n",
            "Dooley and his canine partner, Jerry Lee are together again in this 2nd sequel (?!!?) I sincerely had no clue that they made one sequel let alone two. And for a film that was only slight better than \"Turner & Hooch\"? This time after Dooley retires, he has to mate his dog (with other dogs, people) an ...\n",
            "Gerçek Etiket: neg\n",
            "Tahmin (Pozitif olasılığı): 2.46\n",
            "Tahmin Etiketi: pos\n",
            "--------------------------------------------------------------------------------\n",
            "Yorum 17:\n",
            "POSSIBLE SPOILERS --<br /><br />I love Dennis Quaid and I like Meg Ryan. I was looking forward to seeing them together, being married and all, I wanted to see their on-screen chemistry. Okay, that being said, I guess the fact that they are actors, their off-screen relationship didn't have to permeat ...\n",
            "Gerçek Etiket: neg\n",
            "Tahmin (Pozitif olasılığı): -3.29\n",
            "Tahmin Etiketi: neg\n",
            "--------------------------------------------------------------------------------\n",
            "Yorum 18:\n",
            "The French Babbette appears at the modest house of two Danish sisters wet, cold, and alone. Fleeing revolution in Paris, she seeks refuge in an obscure religious community on the windswept Jutland coast.<br /><br />Unbeknownst to those who so generously take her in, she is a great chef, an artist of ...\n",
            "Gerçek Etiket: pos\n",
            "Tahmin (Pozitif olasılığı): 4.10\n",
            "Tahmin Etiketi: pos\n",
            "--------------------------------------------------------------------------------\n",
            "Yorum 19:\n",
            "so. i was completely in love with this movie. gaga for it, even with all its plot twists...but the one thing i found really disturbing was the connection between the two best friends in Tim and Kyle. While the writer of the film gave us such a poignant moment between the two, and their sexual experi ...\n",
            "Gerçek Etiket: pos\n",
            "Tahmin (Pozitif olasılığı): -2.67\n",
            "Tahmin Etiketi: neg\n",
            "--------------------------------------------------------------------------------\n",
            "Yorum 20:\n",
            "One of those movies in which there are no big twists whatsoever and you can predict pretty much whats is going to happen. Matt dillon was awesome once again, but the rest didn't played a bigger part as they should have.<br /><br />It was exciting in the beginning but kinda slow paced and predictable ...\n",
            "Gerçek Etiket: neg\n",
            "Tahmin (Pozitif olasılığı): -5.11\n",
            "Tahmin Etiketi: neg\n",
            "--------------------------------------------------------------------------------\n"
          ]
        }
      ]
    },
    {
      "cell_type": "markdown",
      "id": "364c96d3",
      "metadata": {
        "id": "364c96d3"
      },
      "source": [
        "## Sonuç\n",
        "Model, IMDB yorumları üzerinde başarılı bir şekilde duygu analizi yapmaktadır. Daha gelişmiş modeller ve gömülü kelime temsilleriyle performans daha da artırılabilir."
      ]
    }
  ],
  "metadata": {
    "colab": {
      "provenance": []
    },
    "language_info": {
      "name": "python"
    },
    "kernelspec": {
      "name": "python3",
      "display_name": "Python 3"
    }
  },
  "nbformat": 4,
  "nbformat_minor": 5
}